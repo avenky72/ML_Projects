{
  "nbformat": 4,
  "nbformat_minor": 0,
  "metadata": {
    "colab": {
      "provenance": []
    },
    "kernelspec": {
      "name": "python3",
      "display_name": "Python 3"
    },
    "language_info": {
      "name": "python"
    }
  },
  "cells": [
    {
      "cell_type": "markdown",
      "source": [
        "Movie Recommendation System using cosine similarity, feature extraction (to covert data to vectors), one-hot encoder (binary vectors for cosine similarity)\n",
        "\n",
        "Using a movies dataset from Kaggle"
      ],
      "metadata": {
        "id": "qvHh6X16LRBx"
      }
    },
    {
      "cell_type": "code",
      "source": [
        "import pandas as pd\n",
        "import torch\n",
        "import torch.nn as nn\n",
        "import torch.nn.functional as F\n",
        "from sklearn.feature_extraction.text import TfidfVectorizer\n",
        "from sklearn.preprocessing import OneHotEncoder\n",
        "from sklearn.model_selection import train_test_split\n",
        "from torch.utils.data import Dataset, DataLoader\n",
        "import numpy as np\n",
        "df = pd.read_csv('/content/movie_dataset.csv')\n",
        "df.head()\n",
        "\n",
        "\n",
        "# Fill missing values\n",
        "df.fillna(\"\", inplace=True)\n",
        "\n",
        "df['combined_text'] = (\n",
        "    df['director'] + \" \" +\n",
        "    df['genres'] + \" \" +\n",
        "    df['overview'] + \" \" +\n",
        "    df['production_companies']\n",
        ")"
      ],
      "metadata": {
        "colab": {
          "base_uri": "https://localhost:8080/"
        },
        "id": "QUI9My9QXr1R",
        "outputId": "61866fba-6d97-472f-8eeb-7f66331ba569"
      },
      "execution_count": 44,
      "outputs": [
        {
          "output_type": "stream",
          "name": "stderr",
          "text": [
            "<ipython-input-44-4426cda8185e>:15: FutureWarning: Setting an item of incompatible dtype is deprecated and will raise an error in a future version of pandas. Value '' has dtype incompatible with float64, please explicitly cast to a compatible dtype first.\n",
            "  df.fillna(\"\", inplace=True)\n"
          ]
        }
      ]
    },
    {
      "cell_type": "code",
      "source": [
        "def get_movie_index_by_title(title):\n",
        "    try:\n",
        "        # Use the 'title' argument instead of 'original_title'\n",
        "        return df[df['title'] == title].index[0]\n",
        "    except IndexError:\n",
        "        return None\n",
        "\n",
        "movie_title = \"Tangled\"\n",
        "movie_index = get_movie_index_by_title(movie_title)\n",
        "\n",
        "if movie_index is not None:\n",
        "    print(f\"Movie index for '{movie_title}':\", movie_index)\n",
        "else:\n",
        "    print(f\"Movie '{movie_title}' not found in the dataset.\")\n"
      ],
      "metadata": {
        "colab": {
          "base_uri": "https://localhost:8080/"
        },
        "id": "rIg6-I5vYAmT",
        "outputId": "b25f67e5-2a8a-48be-aabd-caabaee1408a"
      },
      "execution_count": 45,
      "outputs": [
        {
          "output_type": "stream",
          "name": "stdout",
          "text": [
            "Movie index for 'Tangled': 6\n"
          ]
        }
      ]
    },
    {
      "cell_type": "code",
      "source": [
        "tfidf = TfidfVectorizer(stop_words=\"english\", max_features=500)\n",
        "text_features = tfidf.fit_transform(df['combined_text']).toarray()\n",
        "\n",
        "one_hot_encoder = OneHotEncoder(handle_unknown='ignore', sparse_output=False)\n",
        "categorical_features = one_hot_encoder.fit_transform(df[['genres', 'production_companies']])\n",
        "\n",
        "# Combine features into a single input tensor\n",
        "text_weight = 3.0\n",
        "categorical_weight = 1.0\n",
        "\n",
        "features = np.hstack([\n",
        "    text_features * text_weight,\n",
        "    categorical_features * categorical_weight\n",
        "])\n",
        "features_tensor = torch.tensor(features, dtype=torch.float32)"
      ],
      "metadata": {
        "id": "_OGU5Q6yjDna"
      },
      "execution_count": 49,
      "outputs": []
    },
    {
      "cell_type": "code",
      "source": [
        "class MovieDataset(Dataset):\n",
        "    def __init__(self, features):\n",
        "        self.features = features\n",
        "\n",
        "    def __len__(self):\n",
        "        return len(self.features)\n",
        "\n",
        "    def __getitem__(self, idx):\n",
        "        return self.features[idx]\n",
        "\n",
        "dataset = MovieDataset(features_tensor)\n",
        "dataloader = DataLoader(dataset, batch_size=32, shuffle=True)"
      ],
      "metadata": {
        "id": "b-fB_YGPs8fs"
      },
      "execution_count": 51,
      "outputs": []
    },
    {
      "cell_type": "code",
      "source": [
        "class MovieEmbeddingModel(nn.Module):\n",
        "    def __init__(self, input_dim, embedding_dim):\n",
        "        super(MovieEmbeddingModel, self).__init__()\n",
        "        self.embedding = nn.Linear(input_dim, embedding_dim)\n",
        "\n",
        "    def forward(self, x):\n",
        "        return F.normalize(self.embedding(x), dim=1)  # Normalize for cosine similarity\n",
        "\n",
        "input_dim = features_tensor.shape[1]\n",
        "embedding_dim = 128\n",
        "\n",
        "model = MovieEmbeddingModel(input_dim, embedding_dim)\n",
        "optimizer = torch.optim.Adam(model.parameters(), lr=0.001)\n",
        "criterion = nn.MSELoss()\n"
      ],
      "metadata": {
        "id": "ULIXDgettBUS"
      },
      "execution_count": 52,
      "outputs": []
    },
    {
      "cell_type": "code",
      "source": [
        "epochs = 10\n",
        "for epoch in range(epochs):\n",
        "    for batch in dataloader:\n",
        "        optimizer.zero_grad()\n",
        "        embeddings = model(batch)\n",
        "        loss = criterion(embeddings, embeddings)\n",
        "        loss.backward()\n",
        "        optimizer.step()\n",
        "    print(f\"Epoch {epoch + 1}/{epochs}, Loss: {loss.item():.4f}\")\n"
      ],
      "metadata": {
        "colab": {
          "base_uri": "https://localhost:8080/"
        },
        "id": "-5l8KRQuthae",
        "outputId": "11cdbaa9-cb9b-454d-9dc2-eb61e3c3c4cf"
      },
      "execution_count": 55,
      "outputs": [
        {
          "output_type": "stream",
          "name": "stdout",
          "text": [
            "Epoch 1/10, Loss: 0.0000\n",
            "Epoch 2/10, Loss: 0.0000\n",
            "Epoch 3/10, Loss: 0.0000\n",
            "Epoch 4/10, Loss: 0.0000\n",
            "Epoch 5/10, Loss: 0.0000\n",
            "Epoch 6/10, Loss: 0.0000\n",
            "Epoch 7/10, Loss: 0.0000\n",
            "Epoch 8/10, Loss: 0.0000\n",
            "Epoch 9/10, Loss: 0.0000\n",
            "Epoch 10/10, Loss: 0.0000\n"
          ]
        }
      ]
    },
    {
      "cell_type": "code",
      "source": [
        "movie_embeddings = model(features_tensor).detach()\n",
        "\n",
        "def recommend_movies(movie_title, num_recommendations=3):\n",
        "    if movie_title not in df['title'].values:\n",
        "        return f\"'{movie_title}' not found in the dataset.\"\n",
        "\n",
        "    movie_idx = df[df['title'] == movie_title].index[0]\n",
        "\n",
        "    target_embedding = movie_embeddings[movie_idx]\n",
        "\n",
        "    similarities = F.cosine_similarity(target_embedding.unsqueeze(0), movie_embeddings)\n",
        "\n",
        "    # Exlude the target movie from cosine sims.\n",
        "    similar_indices = similarities.argsort(descending=True)[1:num_recommendations + 1]\n",
        "\n",
        "    similar_movies = df.iloc[similar_indices.cpu().numpy()]\n",
        "    return [\n",
        "        {\"title\": row['title'], \"link\": row['homepage']} for _, row in similar_movies.iterrows()\n",
        "    ]\n",
        "\n",
        "\n",
        "\n",
        "print(recommend_movies(\"Tangled\"))"
      ],
      "metadata": {
        "colab": {
          "base_uri": "https://localhost:8080/"
        },
        "id": "A-6D74eWtzyC",
        "outputId": "e74b2c47-98ec-4cc8-fc50-9dc03a34072c"
      },
      "execution_count": 54,
      "outputs": [
        {
          "output_type": "stream",
          "name": "stdout",
          "text": [
            "[{'title': 'Winnie the Pooh', 'link': 'http://disney.go.com/pooh/home/'}, {'title': 'Dinosaur', 'link': ''}, {'title': 'Monsters University', 'link': ''}]\n"
          ]
        }
      ]
    }
  ]
}